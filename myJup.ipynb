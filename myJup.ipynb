{
    "cells": [
        {
            "metadata": {},
            "cell_type": "markdown",
            "source": "#DataSet Project"
        },
        {
            "metadata": {},
            "cell_type": "code",
            "source": "\nimport types\nimport pandas as pd\nfrom botocore.client import Config\nimport ibm_boto3\n\ndef __iter__(self): return 0\n\n# @hidden_cell\n# The following code accesses a file in your IBM Cloud Object Storage. It includes your credentials.\n# You might want to remove those credentials before you share the notebook.\nclient_55a6165b3cb04f6eb21cc72110a73cba = ibm_boto3.client(service_name='s3',\n    ibm_api_key_id='OnblBxA-g3GDUAeGX_kud2_mZHe4QBp5zoMZG9U3xP8r',\n    ibm_auth_endpoint=\"https://iam.cloud.ibm.com/oidc/token\",\n    config=Config(signature_version='oauth'),\n    endpoint_url='https://s3.eu-geo.objectstorage.service.networklayer.com')\n\nbody = client_55a6165b3cb04f6eb21cc72110a73cba.get_object(Bucket='myibmproject-donotdelete-pr-b3evrvuidaljha',Key='07022019.csv')['Body']\n# add missing __iter__ method, so pandas accepts body as file-like object\nif not hasattr(body, \"__iter__\"): body.__iter__ = types.MethodType( __iter__, body )\n\ndf_data_1 = pd.read_csv(body)\ndf_data_1.head()\n",
            "execution_count": 1,
            "outputs": [
                {
                    "output_type": "execute_result",
                    "execution_count": 1,
                    "data": {
                        "text/plain": "  school_id            date_time  \\\n0   NJPSPWL  2019-02-07 15:52:59   \n1   NJPSPWL  2019-02-07 15:52:59   \n2   NJPSPWL  2019-02-07 15:52:59   \n3     SOSHS  2019-02-07 14:52:32   \n4     SOSHS  2019-02-07 14:52:37   \n\n                                        message_text  \\\n0  Dear Parents, Your ward Nandani  has left scho...   \n1  Dear Parents, Your ward Lalitesh  has left sch...   \n2  Dear Parents, Your ward Chhaya  has left schoo...   \n3  Dear Parents, Your ward Nitesh Shakya  has lef...   \n4  Dear Parents, Your ward SHIVANK  has left scho...   \n\n  TIMEDIFF(date_time,MID(message_text,INSTR(message_text,'2019'),19))  \n0                                           00:25:26                   \n1                                           00:25:24                   \n2                                           00:25:22                   \n3                                           00:21:56                   \n4                                           00:21:49                   ",
                        "text/html": "<div>\n<style scoped>\n    .dataframe tbody tr th:only-of-type {\n        vertical-align: middle;\n    }\n\n    .dataframe tbody tr th {\n        vertical-align: top;\n    }\n\n    .dataframe thead th {\n        text-align: right;\n    }\n</style>\n<table border=\"1\" class=\"dataframe\">\n  <thead>\n    <tr style=\"text-align: right;\">\n      <th></th>\n      <th>school_id</th>\n      <th>date_time</th>\n      <th>message_text</th>\n      <th>TIMEDIFF(date_time,MID(message_text,INSTR(message_text,'2019'),19))</th>\n    </tr>\n  </thead>\n  <tbody>\n    <tr>\n      <th>0</th>\n      <td>NJPSPWL</td>\n      <td>2019-02-07 15:52:59</td>\n      <td>Dear Parents, Your ward Nandani  has left scho...</td>\n      <td>00:25:26</td>\n    </tr>\n    <tr>\n      <th>1</th>\n      <td>NJPSPWL</td>\n      <td>2019-02-07 15:52:59</td>\n      <td>Dear Parents, Your ward Lalitesh  has left sch...</td>\n      <td>00:25:24</td>\n    </tr>\n    <tr>\n      <th>2</th>\n      <td>NJPSPWL</td>\n      <td>2019-02-07 15:52:59</td>\n      <td>Dear Parents, Your ward Chhaya  has left schoo...</td>\n      <td>00:25:22</td>\n    </tr>\n    <tr>\n      <th>3</th>\n      <td>SOSHS</td>\n      <td>2019-02-07 14:52:32</td>\n      <td>Dear Parents, Your ward Nitesh Shakya  has lef...</td>\n      <td>00:21:56</td>\n    </tr>\n    <tr>\n      <th>4</th>\n      <td>SOSHS</td>\n      <td>2019-02-07 14:52:37</td>\n      <td>Dear Parents, Your ward SHIVANK  has left scho...</td>\n      <td>00:21:49</td>\n    </tr>\n  </tbody>\n</table>\n</div>"
                    },
                    "metadata": {}
                }
            ]
        },
        {
            "metadata": {},
            "cell_type": "code",
            "source": "",
            "execution_count": null,
            "outputs": []
        }
    ],
    "metadata": {
        "kernelspec": {
            "name": "python3",
            "display_name": "Python 3.6",
            "language": "python"
        },
        "language_info": {
            "name": "python",
            "version": "3.6.9",
            "mimetype": "text/x-python",
            "codemirror_mode": {
                "name": "ipython",
                "version": 3
            },
            "pygments_lexer": "ipython3",
            "nbconvert_exporter": "python",
            "file_extension": ".py"
        }
    },
    "nbformat": 4,
    "nbformat_minor": 1
}