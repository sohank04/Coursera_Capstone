{
    "cells": [
        {
            "cell_type": "markdown",
            "metadata": {},
            "source": "#DataSet Project"
        },
        {
            "cell_type": "code",
            "execution_count": 1,
            "metadata": {},
            "outputs": [
                {
                    "data": {
                        "text/html": "<div>\n<style scoped>\n    .dataframe tbody tr th:only-of-type {\n        vertical-align: middle;\n    }\n\n    .dataframe tbody tr th {\n        vertical-align: top;\n    }\n\n    .dataframe thead th {\n        text-align: right;\n    }\n</style>\n<table border=\"1\" class=\"dataframe\">\n  <thead>\n    <tr style=\"text-align: right;\">\n      <th></th>\n      <th>school_id</th>\n      <th>date_time</th>\n      <th>message_text</th>\n      <th>TIMEDIFF(date_time,MID(message_text,INSTR(message_text,'2019'),19))</th>\n    </tr>\n  </thead>\n  <tbody>\n    <tr>\n      <th>0</th>\n      <td>NJPSPWL</td>\n      <td>2019-02-07 15:52:59</td>\n      <td>Dear Parents, Your ward Nandani  has left scho...</td>\n      <td>00:25:26</td>\n    </tr>\n    <tr>\n      <th>1</th>\n      <td>NJPSPWL</td>\n      <td>2019-02-07 15:52:59</td>\n      <td>Dear Parents, Your ward Lalitesh  has left sch...</td>\n      <td>00:25:24</td>\n    </tr>\n    <tr>\n      <th>2</th>\n      <td>NJPSPWL</td>\n      <td>2019-02-07 15:52:59</td>\n      <td>Dear Parents, Your ward Chhaya  has left schoo...</td>\n      <td>00:25:22</td>\n    </tr>\n    <tr>\n      <th>3</th>\n      <td>SOSHS</td>\n      <td>2019-02-07 14:52:32</td>\n      <td>Dear Parents, Your ward Nitesh Shakya  has lef...</td>\n      <td>00:21:56</td>\n    </tr>\n    <tr>\n      <th>4</th>\n      <td>SOSHS</td>\n      <td>2019-02-07 14:52:37</td>\n      <td>Dear Parents, Your ward SHIVANK  has left scho...</td>\n      <td>00:21:49</td>\n    </tr>\n  </tbody>\n</table>\n</div>",
                        "text/plain": "  school_id            date_time  \\\n0   NJPSPWL  2019-02-07 15:52:59   \n1   NJPSPWL  2019-02-07 15:52:59   \n2   NJPSPWL  2019-02-07 15:52:59   \n3     SOSHS  2019-02-07 14:52:32   \n4     SOSHS  2019-02-07 14:52:37   \n\n                                        message_text  \\\n0  Dear Parents, Your ward Nandani  has left scho...   \n1  Dear Parents, Your ward Lalitesh  has left sch...   \n2  Dear Parents, Your ward Chhaya  has left schoo...   \n3  Dear Parents, Your ward Nitesh Shakya  has lef...   \n4  Dear Parents, Your ward SHIVANK  has left scho...   \n\n  TIMEDIFF(date_time,MID(message_text,INSTR(message_text,'2019'),19))  \n0                                           00:25:26                   \n1                                           00:25:24                   \n2                                           00:25:22                   \n3                                           00:21:56                   \n4                                           00:21:49                   "
                    },
                    "execution_count": 1,
                    "metadata": {},
                    "output_type": "execute_result"
                }
            ],
            "source": "# The code was removed by Watson Studio for sharing."
        },
        {
            "cell_type": "code",
            "execution_count": null,
            "metadata": {},
            "outputs": [],
            "source": ""
        }
    ],
    "metadata": {
        "kernelspec": {
            "display_name": "Python 3.6",
            "language": "python",
            "name": "python3"
        },
        "language_info": {
            "codemirror_mode": {
                "name": "ipython",
                "version": 3
            },
            "file_extension": ".py",
            "mimetype": "text/x-python",
            "name": "python",
            "nbconvert_exporter": "python",
            "pygments_lexer": "ipython3",
            "version": "3.6.9"
        }
    },
    "nbformat": 4,
    "nbformat_minor": 1
}